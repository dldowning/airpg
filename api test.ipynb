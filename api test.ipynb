{
 "cells": [
  {
   "cell_type": "code",
   "execution_count": 1,
   "metadata": {},
   "outputs": [],
   "source": [
    "import requests\n",
    "import json\n",
    "\n",
    "def ask_llama(question):\n",
    "    url = \"http://192.168.68.95:11434/api/chat\"\n",
    "    headers = {\"Content-Type\": \"application/json\"}\n",
    "    data = {\n",
    "        \"model\": \"llama3\",\n",
    "        \"messages\": [\n",
    "            {\"role\": \"user\", \"content\": question}\n",
    "        ],\n",
    "        \"stream\": False\n",
    "    }\n",
    "    json_data = json.dumps(data)\n",
    "    \n",
    "    try:\n",
    "        response = requests.post(url, headers=headers, data=json_data)\n",
    "        #print(\"Response Headers:\")\n",
    "        #for key, value in response.headers.items():\n",
    "        #    print(f\"{key}: {value}\")\n",
    "        \n",
    "        #print(\"\\nResponse Headers:\")\n",
    "        #print(response.text)\n",
    "\n",
    "        try:\n",
    "            response_json = response.json()\n",
    "            #print(\"Response Body (json):\")\n",
    "            #print(response_json)\n",
    "            if \"message\" in response_json and \"content\" in response_json[\"message\"]:\n",
    "                answer = response_json[\"message\"][\"content\"].splitlines()[-1].strip().replace(\" = \", \": \")\n",
    "                print(answer)\n",
    "        except ValueError:\n",
    "            print(\"No JSON data found in the response.\")\n",
    "    except:\n",
    "        print(\"oops\")"
   ]
  },
  {
   "cell_type": "code",
   "execution_count": 3,
   "metadata": {},
   "outputs": [
    {
     "name": "stdout",
     "output_type": "stream",
     "text": [
      "Type a command, and we'll proceed from there.\n"
     ]
    }
   ],
   "source": [
    "ask_llama(\"Do you think you could write a MUD?\")"
   ]
  },
  {
   "cell_type": "code",
   "execution_count": null,
   "metadata": {},
   "outputs": [],
   "source": []
  }
 ],
 "metadata": {
  "kernelspec": {
   "display_name": "Python 3",
   "language": "python",
   "name": "python3"
  },
  "language_info": {
   "codemirror_mode": {
    "name": "ipython",
    "version": 3
   },
   "file_extension": ".py",
   "mimetype": "text/x-python",
   "name": "python",
   "nbconvert_exporter": "python",
   "pygments_lexer": "ipython3",
   "version": "3.12.0"
  }
 },
 "nbformat": 4,
 "nbformat_minor": 2
}
